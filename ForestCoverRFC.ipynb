{
 "cells": [
  {
   "cell_type": "code",
   "execution_count": 32,
   "metadata": {},
   "outputs": [
    {
     "name": "stdout",
     "output_type": "stream",
     "text": [
      "66.48148148148148\n"
     ]
    }
   ],
   "source": [
    "from sklearn import datasets\n",
    "import pandas as pd\n",
    "from sklearn.preprocessing import StandardScaler\n",
    "from sklearn.model_selection import train_test_split\n",
    "from sklearn.preprocessing import Imputer\n",
    "from sklearn.ensemble import RandomForestClassifier\n",
    "from sklearn.metrics import accuracy_score\n",
    "from sklearn.svm import SVC\n",
    "\n",
    "import numpy as np\n",
    "\n",
    "\n",
    "df = pd.read_csv('C:/Users/henry/Downloads/ForestCover/train.csv')\n",
    "#extracting the target values\n",
    "y = df.iloc[0:, 55].values\n",
    "\n",
    "X = df.iloc[0:, 0:55].values \n",
    "X_train, X_test, y_train, y_test = train_test_split(X, y, test_size=0.99, stratify=y)\n",
    "\n",
    "\n",
    "forest= RandomForestClassifier(criterion='gini', n_estimators=250, random_state=2, n_jobs=2)\n",
    "forest.fit(X_train, y_train)\n",
    "\n",
    "\n",
    "y_pred = forest.predict(X_test)\n",
    "\n",
    "wrong = (y_test != y_pred).sum()\n",
    "acc = (1-(wrong/15120))*100\n",
    "print(acc)\n",
    "#dfOut = pd.DataFrame({\"PassengerId\" : TestID, \"Survived\" : y_pred})\n",
    "#dfOut.to_csv(\"C:/Users/henry/Downloads/ForestCover/submission1.csv\", index=False)\n"
   ]
  },
  {
   "cell_type": "code",
   "execution_count": 17,
   "metadata": {},
   "outputs": [],
   "source": [
    "from sklearn import datasets\n",
    "import pandas as pd\n",
    "from sklearn.ensemble import RandomForestClassifier\n",
    "import numpy as np\n",
    "\n",
    "\n",
    "df = pd.read_csv('C:/Users/henry/Downloads/ForestCover/train.csv')\n",
    "#extracting the target values\n",
    "y = df.iloc[0:, 55].values\n",
    "\n",
    "X = df.iloc[0:, 0:55].values \n",
    "\n",
    "#X_train, X_test, y_train, y_test = train_test_split(X, y, test_size=0.33, stratify=y)\n",
    "\n",
    "dfTest = pd.read_csv('C:/Users/henry/Downloads/ForestCover/test.csv')\n",
    "X_test = dfTest.iloc[0:, 0:55].values\n",
    "TestID = dfTest.iloc[0:, 0].values\n",
    "\n",
    "#sc.fit(X_train)\n",
    "#X_train_std = sc.transform(X_train)\n",
    "#X_test_std =sc.transform(X_test)\n",
    "\n",
    "forest= RandomForestClassifier(criterion='gini', n_estimators=250, random_state=2, n_jobs=2)\n",
    "forest.fit(X, y)\n",
    "\n",
    "\n",
    "y_pred = forest.predict(X_test)\n",
    "\n",
    "dfOut = pd.DataFrame({\"Id\" : TestID, \"Cover_Type\" : y_pred})\n",
    "dfOut.to_csv(\"C:/Users/henry/Downloads/ForestCover/submission1.csv\", index=False)"
   ]
  },
  {
   "cell_type": "code",
   "execution_count": null,
   "metadata": {},
   "outputs": [],
   "source": []
  },
  {
   "cell_type": "code",
   "execution_count": null,
   "metadata": {},
   "outputs": [],
   "source": []
  }
 ],
 "metadata": {
  "kernelspec": {
   "display_name": "Python 3",
   "language": "python",
   "name": "python3"
  },
  "language_info": {
   "codemirror_mode": {
    "name": "ipython",
    "version": 3
   },
   "file_extension": ".py",
   "mimetype": "text/x-python",
   "name": "python",
   "nbconvert_exporter": "python",
   "pygments_lexer": "ipython3",
   "version": "3.6.5"
  }
 },
 "nbformat": 4,
 "nbformat_minor": 2
}
