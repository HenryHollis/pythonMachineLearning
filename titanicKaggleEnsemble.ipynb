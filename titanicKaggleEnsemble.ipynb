{
 "cells": [
  {
   "cell_type": "code",
   "execution_count": 17,
   "metadata": {},
   "outputs": [
    {
     "name": "stderr",
     "output_type": "stream",
     "text": [
      "C:\\ProgramData\\Anaconda3\\lib\\site-packages\\ipykernel_launcher.py:8: SettingWithCopyWarning: \n",
      "A value is trying to be set on a copy of a slice from a DataFrame\n",
      "\n",
      "See the caveats in the documentation: http://pandas.pydata.org/pandas-docs/stable/indexing.html#indexing-view-versus-copy\n",
      "  \n",
      "C:\\ProgramData\\Anaconda3\\lib\\site-packages\\ipykernel_launcher.py:9: SettingWithCopyWarning: \n",
      "A value is trying to be set on a copy of a slice from a DataFrame\n",
      "\n",
      "See the caveats in the documentation: http://pandas.pydata.org/pandas-docs/stable/indexing.html#indexing-view-versus-copy\n",
      "  if __name__ == '__main__':\n",
      "C:\\ProgramData\\Anaconda3\\lib\\site-packages\\ipykernel_launcher.py:19: SettingWithCopyWarning: \n",
      "A value is trying to be set on a copy of a slice from a DataFrame\n",
      "\n",
      "See the caveats in the documentation: http://pandas.pydata.org/pandas-docs/stable/indexing.html#indexing-view-versus-copy\n",
      "C:\\ProgramData\\Anaconda3\\lib\\site-packages\\ipykernel_launcher.py:20: SettingWithCopyWarning: \n",
      "A value is trying to be set on a copy of a slice from a DataFrame\n",
      "\n",
      "See the caveats in the documentation: http://pandas.pydata.org/pandas-docs/stable/indexing.html#indexing-view-versus-copy\n"
     ]
    }
   ],
   "source": [
    "import pandas as pd\n",
    "from sklearn.metrics import accuracy_score\n",
    "from sklearn.ensemble import BaggingClassifier\n",
    "from sklearn.tree import DecisionTreeClassifier\n",
    "\n",
    "df = pd.read_csv('C:/Users/henry/Downloads/all/train.csv')\n",
    "#extracting the target values\n",
    "df.Sex[df.Sex == 'female'] = 0\n",
    "df.Sex[df.Sex == 'male'] = 1\n",
    "df[\"Age\"].fillna(df['Age'].value_counts().idxmax(), inplace=True)\n",
    "df[\"Embarked\"].fillna(df['Embarked'].value_counts().idxmax(), inplace=True)\n",
    "df['Embarked'] = class_le.fit_transform(df['Embarked'].values)\n",
    "y = df.iloc[0:891, 1].values\n",
    "X = df.iloc[0:891, [2, 4, 5, 6, 7, 11]].values #class(2), sex(4), age(5), sibling count(6), parent count(7), embarked(11)\n",
    "\n",
    "#preprocessing test data\n",
    "\n",
    "dfTest = pd.read_csv('C:/Users/henry/Downloads/all/test.csv')\n",
    "dfTest.Sex[dfTest.Sex == 'female'] = 0\n",
    "dfTest.Sex[dfTest.Sex == 'male'] = 1\n",
    "dfTest[\"Age\"].fillna(dfTest['Age'].value_counts().idxmax(), inplace=True)\n",
    "dfTest[\"Embarked\"].fillna(dfTest['Embarked'].value_counts().idxmax(), inplace=True)\n",
    "dfTest['Embarked'] = class_le.fit_transform(dfTest['Embarked'].values)\n",
    "X_test = dfTest.iloc[0:418, [1, 3, 4, 5, 6, 10]].values\n",
    "TestID = dfTest.iloc[0:418, 0].values\n",
    "\n",
    "bag = BaggingClassifier(base_estimator=tree,\n",
    "                        n_estimators=1000, \n",
    "                        max_samples=1.0, \n",
    "                        max_features=1.0, \n",
    "                        bootstrap=True, \n",
    "                        bootstrap_features=False, \n",
    "                        n_jobs=-1, \n",
    "                        random_state=1)\n",
    "\n",
    "bag = bag.fit(X, y)\n",
    "y_test_pred = bag.predict(X_test)\n",
    "\n",
    "#create prediction csv\n",
    "dfOut = pd.DataFrame({\"PassengerId\" : TestID, \"Survived\" : y_test_pred})\n",
    "dfOut.to_csv(\"C:/Users/henry/Downloads/all/submission12.csv\", index=False)\n",
    "\n",
    "\n"
   ]
  },
  {
   "cell_type": "code",
   "execution_count": null,
   "metadata": {},
   "outputs": [],
   "source": []
  },
  {
   "cell_type": "code",
   "execution_count": null,
   "metadata": {},
   "outputs": [],
   "source": []
  },
  {
   "cell_type": "code",
   "execution_count": null,
   "metadata": {},
   "outputs": [],
   "source": []
  }
 ],
 "metadata": {
  "kernelspec": {
   "display_name": "Python 3",
   "language": "python",
   "name": "python3"
  },
  "language_info": {
   "codemirror_mode": {
    "name": "ipython",
    "version": 3
   },
   "file_extension": ".py",
   "mimetype": "text/x-python",
   "name": "python",
   "nbconvert_exporter": "python",
   "pygments_lexer": "ipython3",
   "version": "3.6.5"
  }
 },
 "nbformat": 4,
 "nbformat_minor": 2
}
