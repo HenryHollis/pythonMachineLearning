{
  "nbformat": 4,
  "nbformat_minor": 0,
  "metadata": {
    "colab": {
      "name": "Project2_Part2_Hollis.ipynb",
      "provenance": [],
      "collapsed_sections": [],
      "authorship_tag": "ABX9TyPNkJh7X37rqxnTeFnJZkll",
      "include_colab_link": true
    },
    "kernelspec": {
      "name": "python3",
      "display_name": "Python 3"
    }
  },
  "cells": [
    {
      "cell_type": "markdown",
      "metadata": {
        "id": "view-in-github",
        "colab_type": "text"
      },
      "source": [
        "<a href=\"https://colab.research.google.com/github/HenryHollis/pythonMachineLearning/blob/master/Project2_Part2_Hollis.ipynb\" target=\"_parent\"><img src=\"https://colab.research.google.com/assets/colab-badge.svg\" alt=\"Open In Colab\"/></a>"
      ]
    },
    {
      "cell_type": "markdown",
      "metadata": {
        "id": "8sRmBD6cb6uQ",
        "colab_type": "text"
      },
      "source": [
        "# Option 3: ANN With a Hidden Layer"
      ]
    },
    {
      "cell_type": "code",
      "metadata": {
        "id": "HjYeTV5qWCnb",
        "colab_type": "code",
        "colab": {}
      },
      "source": [
        "#All my imports\n",
        "import numpy as np \n",
        "import matplotlib.pyplot as plt\n",
        "from sklearn.preprocessing import OneHotEncoder\n",
        "from sklearn import metrics\n",
        "from sklearn.metrics import confusion_matrix\n",
        "import keras  #for MNIST data"
      ],
      "execution_count": 1,
      "outputs": []
    },
    {
      "cell_type": "code",
      "metadata": {
        "id": "YG-PYrAhWEG3",
        "colab_type": "code",
        "colab": {}
      },
      "source": [
        "#bring in my MNIST data\n",
        "(X_train, y_train), (X_test, y_test) = keras.datasets.mnist.load_data(path=\"mnist.npz\")\n"
      ],
      "execution_count": 2,
      "outputs": []
    },
    {
      "cell_type": "code",
      "metadata": {
        "id": "z1uPVO_lAPvr",
        "colab_type": "code",
        "colab": {
          "base_uri": "https://localhost:8080/",
          "height": 86
        },
        "outputId": "517893f3-8101-4b80-f9c6-51ad0ef63c6a"
      },
      "source": [
        "# Reshape the training and test examples\n",
        "y_train = y_train.reshape((60000, 1))\n",
        "y_test = y_test.reshape((10000, 1))\n",
        "X_train= X_train.reshape(X_train.shape[0], -1).T\n",
        "X_test = X_test.reshape(X_test.shape[0], -1).T\n",
        "\n",
        "print (\"X_train shape: \" + str(X_train.shape))  # This is the format Dr. Ng suggests\n",
        "print (\"y_train shape: \" + str(y_train.shape))\n",
        "print (\"X_test shape: \" + str(X_test.shape))\n",
        "print (\"y_test shape: \" + str(y_test.shape))\n",
        "\n",
        "X_train = X_train/255.   # normalize px values\n",
        "X_test = X_test/255."
      ],
      "execution_count": 3,
      "outputs": [
        {
          "output_type": "stream",
          "text": [
            "X_train shape: (784, 60000)\n",
            "y_train shape: (60000, 1)\n",
            "X_test shape: (784, 10000)\n",
            "y_test shape: (10000, 1)\n"
          ],
          "name": "stdout"
        }
      ]
    },
    {
      "cell_type": "code",
      "metadata": {
        "id": "sfhUh7fhIh3P",
        "colab_type": "code",
        "colab": {}
      },
      "source": [
        "# Making categorical data:\n",
        "def one_hot_encode(labels):\n",
        "    enc = OneHotEncoder(handle_unknown='ignore')\n",
        "    enc = enc.fit_transform(labels).toarray()\n",
        "    return enc.T\n",
        "\n",
        "# Rectified Linear Unit (ReLU) activation function\n",
        "def Relu(Z):\n",
        "    return np.maximum(0,Z)  \n",
        "\n",
        "# derivative of ReLU\n",
        "def dRelu(x):\n",
        "    x[x<=0] = 0  \n",
        "    x[x>0] = 1\n",
        "    return x\n",
        "\n",
        "#Remember, Relu has a piecewise deriv.\n",
        "def dRelu2(dZ, Z):    \n",
        "    dZ[Z <= 0] = 0    \n",
        "    return dZ\n",
        "\n",
        "# Defining my activation function for output layer\n",
        "def softmax(x):  \n",
        "    e_x = np.exp(x - np.max(x))\n",
        "    return e_x / e_x.sum(axis=0)\n",
        "\n",
        "# derivative of softmax (also sigmoid)\n",
        "def d_softmax(Z):\n",
        "    s = 1/(1+np.exp(-Z))\n",
        "    dZ = s * (1-s)\n",
        "    return dZ"
      ],
      "execution_count": 4,
      "outputs": []
    },
    {
      "cell_type": "code",
      "metadata": {
        "id": "C0VbuLbGV2yB",
        "colab_type": "code",
        "colab": {}
      },
      "source": [
        "\n",
        "class digit_classifier: \n",
        "    \"\"\"Here I modified some code I have from my AI class last semester:\n",
        "     https://github.com/HenryHollis/pythonMachineLearning/blob/master/shroom/Classifying%20Mushrooms.ipynb\n",
        "     \"\"\"\n",
        "    def __init__(self, X_train, y_train, learn_rate = 0.003):\n",
        "        \"\"\" input: X_train: ndarray of shape (numfeatures, numsamples)\n",
        "                   y_train: ndarray of shape (1, numsamples)\n",
        "                   learning_rate: float val\n",
        "        \"\"\"\n",
        "        #print(y_train.shape)\n",
        "        self.X = X_train                           # training input vector size (784, 60000)\n",
        "        self.Y = one_hot_encode(y_train)           # training output vector size (1, 60000)\n",
        "        y_train = y_train.T\n",
        "        #print('X shape', self.X.shape)\n",
        "        #print('y shape', self.Y.shape)\n",
        "        self.Yh = np.zeros(self.Y.shape[1]).reshape((1, -1))   # actual outputs of the NN \n",
        "        self.L = 2                            # number of layers in our NN\n",
        "        self.dims = [784, 500, 10]            # dimensions of layers: 784 inputs, 500 units (hidden), 1 output unit\n",
        "        self.param = {}  \n",
        "        self.ch = {}                          # dictionary to store intermediate results of forward pass for backprop use\n",
        "        self.grad = {}\n",
        "        self.loss = []\n",
        "        self.train_acc = []\n",
        "        self.lr = learn_rate                  # learning rate\n",
        "        self.sam = self.Y.shape[1]            # number of training samples to use\n",
        "       \n",
        "    # initialize the network weights with random values instead of zeros like Prof. Ng suggests\n",
        "    def initialize(self):    \n",
        "        np.random.seed(1)\n",
        "        self.param['W1'] = np.random.randn(self.dims[1], self.dims[0]) / np.sqrt(self.dims[0]) \n",
        "        self.param['b1'] = np.zeros((self.dims[1], 1))        \n",
        "        self.param['W2'] = np.random.randn(self.dims[2], self.dims[1]) / np.sqrt(self.dims[1]) \n",
        "        self.param['b2'] = np.zeros((self.dims[2], 1))          \n",
        "        # print(self.param['W1'].shape)      \n",
        "        # print(self.param['b1'].shape)      \n",
        "        # print(self.param['W2'].shape)      \n",
        "        # print(self.param['b2'].shape)      \n",
        "\n",
        "        return\n",
        "        \n",
        "    # forward pass of the NN\n",
        "    def propagate(self, predict = False):\n",
        "        \"\"\"\n",
        "        When predicting we need to use this method but we\n",
        "        dont care about the loss, hence the parameter \"predict\"\n",
        "        \"\"\"\n",
        "        Z1 = self.param['W1'].dot(self.X) + self.param['b1'] # score is calculated z1 = W dot X + B\n",
        "        A1 = Relu(Z1)                                        # This is the preactivation\n",
        "        self.ch['Z1'],self.ch['A1']=Z1, A1                   # store these results for later backprop\n",
        "        Z2 = self.param['W2'].dot(A1) + self.param['b2']     # preactivation 2 calculated\n",
        "        A2 = softmax(Z2)                                     # run through softmax function\n",
        "        self.ch['Z2'],self.ch['A2']=Z2,A2                    # again, store intermediate results of hidden layer\n",
        "        self.Yh = A2                                         # final outputs stored in Yh\n",
        "        loss = np.NAN\n",
        "        if not predict:\n",
        "            loss = self.nloss(A2)                            # calculate loss on final output, then return\n",
        "        return self.Yh, loss\n",
        "        \n",
        "\n",
        "    # compute the Loss\n",
        "    def nloss(self,Yh):\n",
        "      \"\"\"\n",
        "      loss function\n",
        "      input: ndarry of shape: (numClasses, numSamples)\n",
        "      \"\"\"\n",
        "      loss = (1.0/self.sam) * (-np.dot(self.Y, np.log(Yh).T) - np.dot(1-self.Y, np.log(1-Yh).T))    \n",
        "      return loss   \n",
        "    \n",
        "    # backward pass\n",
        "    def backward(self):\n",
        "        \"\"\"\n",
        "        backprop using chain rule and\n",
        "        derivative functions we defined\n",
        "        \"\"\"\n",
        "        dLoss_Yh = - (np.divide(self.Y, self.Yh ) - np.divide(1 - self.Y, 1 - self.Yh))  # derivative of loss function\n",
        "        #print(self.ch['Z2'].shape)\n",
        "        dLoss_Z2 = dLoss_Yh * d_softmax(self.ch['Z2'])    # derivative of loss w.r.t. preactivation 2\n",
        "        dLoss_A1 = np.dot(self.param[\"W2\"].T,dLoss_Z2)   # dloss w.r.t. activation 1\n",
        "\n",
        "        # using chain rule to find dLoss w.r.t weights and bias for layer 2\n",
        "        dLoss_W2 = 1.0/self.ch['A1'].shape[1] * np.dot(dLoss_Z2,self.ch['A1'].T)\n",
        "        dLoss_b2 = 1.0/self.ch['A1'].shape[1] * np.dot(dLoss_Z2, np.ones([dLoss_Z2.shape[1],1])) \n",
        "                            \n",
        "        dLoss_Z1 = dLoss_A1 * dRelu(self.ch['Z1'])        \n",
        "        dLoss_A0 = np.dot(self.param[\"W1\"].T,dLoss_Z1)\n",
        "\n",
        "        # using chain rule to find dLoss w.r.t weights and bias for layer 1\n",
        "        dLoss_W1 = 1./self.X.shape[1] * np.dot(dLoss_Z1,self.X.T)\n",
        "        dLoss_b1 = 1./self.X.shape[1] * np.dot(dLoss_Z1, np.ones([dLoss_Z1.shape[1],1]))  \n",
        "        \n",
        "        # Adjust the weights and bias accordingly\n",
        "        self.param[\"W1\"] -= self.lr * dLoss_W1   # adjust weights between input and hidden\n",
        "        self.param[\"b1\"] -= self.lr * dLoss_b1\n",
        "        self.param[\"W2\"] -= self.lr * dLoss_W2   # adjust weights between hidden and output\n",
        "        self.param[\"b2\"] -= self.lr * dLoss_b2 \n",
        "\n",
        "    def predict(self, X_test, y_test = []): \n",
        "        \"\"\"\n",
        "        This method has two modes:\n",
        "        When test labels are supplied via \"y_test\" \n",
        "        it returns validation acc.\n",
        "        When just test data is supplied it outputs the predictions\n",
        "        and confidence.\n",
        "        \"\"\"\n",
        "        self.X = X_test                           # training input vector size (784, 10000)\n",
        "        if len(y_test) > 0:\n",
        "          self.Y = one_hot_encode(y_test)           # training output vector size (1, 10000)\n",
        "          y_test = y_test.T\n",
        "          #print('X shape', self.X.shape)\n",
        "          #print('y shape', self.Y.shape)\n",
        "          self.Yh = np.zeros(self.Y.shape[1]).reshape((1, -1))   # actual outputs of the NN \n",
        "          pred, loss = self.propagate()\n",
        "          pred = softmax(pred)\n",
        "          pred = pred.argmax(axis=0)\n",
        "          acc = np.mean(pred == np.squeeze(y_test))\n",
        "          print('Validation Acc: {:.4f}'.format(acc))\n",
        "          return pred\n",
        "        else:\n",
        "          self.Yh = np.array(X_test[1]).reshape((1, -1))\n",
        "          #print(self.Yh)\n",
        "          pred,_ = self.propagate(True)\n",
        "          #print(pred)\n",
        "          conf = np.amax(pred, axis=0)\n",
        "          conf = [ '%.2f' % x for x in conf ]\n",
        "          conf = [ float(x) for x in conf ]\n",
        "          pred = pred.argmax(axis=0)\n",
        "          preds_conf = (list(zip(list(pred), list(conf))))\n",
        "          print(\"Prediction Complete (prediction, confidence):\")\n",
        "        return (preds_conf)\n",
        "    \n",
        "    def fit(self,X, Y, epoch = 2000):\n",
        "      \"\"\" model for training. Used \"fit\"\n",
        "           to align with keras convention.\n",
        "           input: X : ndarray: (numfeatures, numsamples)\n",
        "                  Y : ndarray: (1, numsamples)\n",
        "                  epoch: How many times do we run through all samples\n",
        "           returns: train accuracy and loss\n",
        "      \"\"\"\n",
        "      np.random.seed(1)\n",
        "      self.initialize()\n",
        "      iter = []         #I use these lists for graphing the progress later\n",
        "      cost = []\n",
        "      for i in range(0, epoch):\n",
        "            Yh, loss = self.propagate()  # forward pass\n",
        "            self.backward()              # backprop\n",
        "            \n",
        "            if i % 10 == 0:\n",
        "                iter.append(i)\n",
        "                cost.append(np.mean(loss))\n",
        "                print ('Cost after iteration {}: {:.4f}'.format(i, np.mean(loss)))\n",
        "                self.loss.append(loss)\n",
        "                preds = Yh.argmax(axis=0)             \n",
        "                acc = np.mean(preds == np.squeeze(y_train))\n",
        "                print('Training Acc: {:.4f}'.format(acc))\n",
        "                self.train_acc.append(acc)\n",
        "      plt.plot(iter, cost)\n",
        "      #print(iter, cost)\n",
        "      plt.ylabel('cost')\n",
        "      plt.xlabel('iterations')\n",
        "      plt.title('Cost as a Function of Epoch')\n",
        "      plt.show()\n",
        "    \n",
        "      return acc, np.mean(loss)\n"
      ],
      "execution_count": 5,
      "outputs": []
    },
    {
      "cell_type": "code",
      "metadata": {
        "id": "Cu0Rzo5UWBTe",
        "colab_type": "code",
        "colab": {}
      },
      "source": [
        "model = digit_classifier(X_train, y_train, learn_rate=0.06)  # create new classifier object"
      ],
      "execution_count": 6,
      "outputs": []
    },
    {
      "cell_type": "code",
      "metadata": {
        "id": "xXIjOn4iWzE0",
        "colab_type": "code",
        "colab": {
          "base_uri": "https://localhost:8080/",
          "height": 1000
        },
        "outputId": "0b263158-f68f-4e20-c6a7-1e58b2522eb8"
      },
      "source": [
        "model.fit(X_train, y_train, epoch = 400)  # train model"
      ],
      "execution_count": 7,
      "outputs": [
        {
          "output_type": "stream",
          "text": [
            "Cost after iteration 0: 0.3283\n",
            "Training Acc: 0.1033\n",
            "Cost after iteration 10: 0.3399\n",
            "Training Acc: 0.7691\n",
            "Cost after iteration 20: 0.3661\n",
            "Training Acc: 0.7798\n",
            "Cost after iteration 30: 0.3964\n",
            "Training Acc: 0.7766\n",
            "Cost after iteration 40: 0.4287\n",
            "Training Acc: 0.7782\n",
            "Cost after iteration 50: 0.4613\n",
            "Training Acc: 0.7843\n",
            "Cost after iteration 60: 0.4935\n",
            "Training Acc: 0.7924\n",
            "Cost after iteration 70: 0.5247\n",
            "Training Acc: 0.8003\n",
            "Cost after iteration 80: 0.5547\n",
            "Training Acc: 0.8070\n",
            "Cost after iteration 90: 0.5833\n",
            "Training Acc: 0.8131\n",
            "Cost after iteration 100: 0.6104\n",
            "Training Acc: 0.8193\n",
            "Cost after iteration 110: 0.6361\n",
            "Training Acc: 0.8246\n",
            "Cost after iteration 120: 0.6603\n",
            "Training Acc: 0.8297\n",
            "Cost after iteration 130: 0.6833\n",
            "Training Acc: 0.8341\n",
            "Cost after iteration 140: 0.7050\n",
            "Training Acc: 0.8382\n",
            "Cost after iteration 150: 0.7255\n",
            "Training Acc: 0.8427\n",
            "Cost after iteration 160: 0.7450\n",
            "Training Acc: 0.8463\n",
            "Cost after iteration 170: 0.7635\n",
            "Training Acc: 0.8499\n",
            "Cost after iteration 180: 0.7811\n",
            "Training Acc: 0.8530\n",
            "Cost after iteration 190: 0.7979\n",
            "Training Acc: 0.8560\n",
            "Cost after iteration 200: 0.8139\n",
            "Training Acc: 0.8589\n",
            "Cost after iteration 210: 0.8292\n",
            "Training Acc: 0.8614\n",
            "Cost after iteration 220: 0.8438\n",
            "Training Acc: 0.8636\n",
            "Cost after iteration 230: 0.8579\n",
            "Training Acc: 0.8656\n",
            "Cost after iteration 240: 0.8713\n",
            "Training Acc: 0.8675\n",
            "Cost after iteration 250: 0.8843\n",
            "Training Acc: 0.8691\n",
            "Cost after iteration 260: 0.8967\n",
            "Training Acc: 0.8712\n",
            "Cost after iteration 270: 0.9087\n",
            "Training Acc: 0.8729\n",
            "Cost after iteration 280: 0.9203\n",
            "Training Acc: 0.8742\n",
            "Cost after iteration 290: 0.9314\n",
            "Training Acc: 0.8756\n",
            "Cost after iteration 300: 0.9421\n",
            "Training Acc: 0.8766\n",
            "Cost after iteration 310: 0.9525\n",
            "Training Acc: 0.8778\n",
            "Cost after iteration 320: 0.9626\n",
            "Training Acc: 0.8789\n",
            "Cost after iteration 330: 0.9723\n",
            "Training Acc: 0.8801\n",
            "Cost after iteration 340: 0.9818\n",
            "Training Acc: 0.8809\n",
            "Cost after iteration 350: 0.9909\n",
            "Training Acc: 0.8817\n",
            "Cost after iteration 360: 0.9998\n",
            "Training Acc: 0.8825\n",
            "Cost after iteration 370: 1.0085\n",
            "Training Acc: 0.8833\n",
            "Cost after iteration 380: 1.0169\n",
            "Training Acc: 0.8843\n",
            "Cost after iteration 390: 1.0252\n",
            "Training Acc: 0.8850\n"
          ],
          "name": "stdout"
        },
        {
          "output_type": "display_data",
          "data": {
            "image/png": "[encoded data removed]",
            "text/plain": [
              "<Figure size 432x288 with 1 Axes>"
            ]
          },
          "metadata": {
            "tags": [],
            "needs_background": "light"
          }
        },
        {
          "output_type": "execute_result",
          "data": {
            "text/plain": [
              "(0.8849833333333333, 1.0324280549194351)"
            ]
          },
          "metadata": {
            "tags": []
          },
          "execution_count": 7
        }
      ]
    },
    {
      "cell_type": "markdown",
      "metadata": {
        "id": "MJkwPFuj6dwS",
        "colab_type": "text"
      },
      "source": [
        "I have tried various learning rates and this one seems to give the best training accuracy. Oddly enough, the cost rises as a function of epoch even though the training accuracy increases. At first I though this was overfitting but the validation accuracy in the next section shows that is not the case. I find this very curious..."
      ]
    },
    {
      "cell_type": "markdown",
      "metadata": {
        "id": "ncQKDMSsgIKW",
        "colab_type": "text"
      },
      "source": [
        "#Running Model on Unseen Test Set:"
      ]
    },
    {
      "cell_type": "code",
      "metadata": {
        "id": "cUIP8a_uzh96",
        "colab_type": "code",
        "colab": {
          "base_uri": "https://localhost:8080/",
          "height": 208
        },
        "outputId": "c85f2e3e-ef92-4740-8a0b-dfaf1beb0803"
      },
      "source": [
        "preds = model.predict(X_test, y_test)  # The model has never seen this test data\n",
        "\n",
        "confusion_matrix(np.squeeze(y_test.T), preds, labels=[0,1,2,3,4,5,6,7,8,9], sample_weight=None, normalize=None)\n"
      ],
      "execution_count": 8,
      "outputs": [
        {
          "output_type": "stream",
          "text": [
            "Validation Acc: 0.8943\n"
          ],
          "name": "stdout"
        },
        {
          "output_type": "execute_result",
          "data": {
            "text/plain": [
              "array([[ 943,    0,    3,    3,    0,    6,   19,    2,    4,    0],\n",
              "       [   0, 1114,    3,    4,    0,    2,    4,    0,    8,    0],\n",
              "       [  10,   14,  891,   24,   15,    1,   22,   17,   31,    7],\n",
              "       [   5,    2,   23,  907,    1,   27,    3,   16,   12,   14],\n",
              "       [   1,    6,    5,    0,  891,    1,   17,    1,    6,   54],\n",
              "       [  15,    3,    8,   44,   20,  742,   17,   10,   20,   13],\n",
              "       [  12,    3,   12,    1,   10,   17,  898,    2,    3,    0],\n",
              "       [   2,   25,   26,    4,   12,    0,    1,  916,    3,   39],\n",
              "       [  10,   12,   17,   49,   19,   43,   18,   14,  766,   26],\n",
              "       [  10,    8,    5,   11,   49,   17,    3,   25,    6,  875]])"
            ]
          },
          "metadata": {
            "tags": []
          },
          "execution_count": 8
        }
      ]
    },
    {
      "cell_type": "markdown",
      "metadata": {
        "id": "snKN70p0gThm",
        "colab_type": "text"
      },
      "source": [
        "# Running Unlabeled Data Through the Model:"
      ]
    },
    {
      "cell_type": "code",
      "metadata": {
        "id": "-8FrOcdzdfnk",
        "colab_type": "code",
        "colab": {
          "base_uri": "https://localhost:8080/",
          "height": 208
        },
        "outputId": "d342c097-4ae0-4321-b0e8-a12233ef78ac"
      },
      "source": [
        "first10 = X_test[:, 0:10].reshape((784,10))  \n",
        "\n",
        "# Running first10 test through without labels makes the model return predicitions and confidence\n",
        "model.predict(first10)\n"
      ],
      "execution_count": 9,
      "outputs": [
        {
          "output_type": "stream",
          "text": [
            "Prediction Complete (prediction, confidence):\n"
          ],
          "name": "stdout"
        },
        {
          "output_type": "execute_result",
          "data": {
            "text/plain": [
              "[(7, 1.0),\n",
              " (2, 0.93),\n",
              " (1, 0.99),\n",
              " (0, 1.0),\n",
              " (4, 0.94),\n",
              " (1, 0.99),\n",
              " (4, 0.92),\n",
              " (9, 0.92),\n",
              " (6, 0.57),\n",
              " (9, 0.8)]"
            ]
          },
          "metadata": {
            "tags": []
          },
          "execution_count": 9
        }
      ]
    },
    {
      "cell_type": "code",
      "metadata": {
        "id": "JFZ22SwohHGu",
        "colab_type": "code",
        "colab": {}
      },
      "source": [
        ""
      ],
      "execution_count": 9,
      "outputs": []
    }
  ]
}